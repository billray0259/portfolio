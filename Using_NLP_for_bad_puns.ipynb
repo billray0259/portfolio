{
  "nbformat": 4,
  "nbformat_minor": 0,
  "metadata": {
    "colab": {
      "name": "Using NLP for bad puns.ipynb",
      "version": "0.3.2",
      "provenance": [],
      "collapsed_sections": [],
      "include_colab_link": true
    },
    "kernelspec": {
      "name": "python3",
      "display_name": "Python 3"
    }
  },
  "cells": [
    {
      "cell_type": "markdown",
      "metadata": {
        "id": "view-in-github",
        "colab_type": "text"
      },
      "source": [
        "<a href=\"https://colab.research.google.com/github/billray0259/portfolio/blob/master/Using_NLP_for_bad_puns.ipynb\" target=\"_parent\"><img src=\"https://colab.research.google.com/assets/colab-badge.svg\" alt=\"Open In Colab\"/></a>"
      ]
    },
    {
      "metadata": {
        "id": "tW1ucGNiRD_l",
        "colab_type": "text"
      },
      "cell_type": "markdown",
      "source": [
        "##What do you call a...\n",
        "Finds new rhyming ways to say two-word phrases!\n",
        ">For example:\n",
        ">* play ground $\\rightarrow$ comeback tarmac\n",
        ">* wind shield $\\rightarrow$ rain restrain\n",
        ">* Bill Ray $\\rightarrow$ legislation illumination\n",
        "\n",
        "Google's [word2vec](https://drive.google.com/file/d/0B7XkCwpI5KDYNlNUTTlSS21pQmM/edit) model is used to find related words for each input.  \n",
        "Next the [pronouncing library](https://pypi.org/project/pronouncing/) is used to pair up rhyming results.  \n",
        "The ouput is creative, often amusing, word combinations that resemble the input phrase\n"
      ]
    },
    {
      "metadata": {
        "id": "g9jW9SUh5z_w",
        "colab_type": "text"
      },
      "cell_type": "markdown",
      "source": [
        "Get imports"
      ]
    },
    {
      "metadata": {
        "id": "hgdVx60-530X",
        "colab_type": "code",
        "colab": {
          "base_uri": "https://localhost:8080/",
          "height": 1003
        },
        "outputId": "4db298ab-b41c-449c-d330-8489cff62b10"
      },
      "cell_type": "code",
      "source": [
        "!pip install gensim\n",
        "!pip install pronouncing\n",
        "!pip install paramiko\n",
        "!pip install gdown\n",
        "\n",
        "import gensim\n",
        "import pronouncing\n",
        "import gdown"
      ],
      "execution_count": 2,
      "outputs": [
        {
          "output_type": "stream",
          "text": [
            "Requirement already satisfied: gensim in /usr/local/lib/python3.6/dist-packages (3.6.0)\n",
            "Requirement already satisfied: six>=1.5.0 in /usr/local/lib/python3.6/dist-packages (from gensim) (1.11.0)\n",
            "Requirement already satisfied: numpy>=1.11.3 in /usr/local/lib/python3.6/dist-packages (from gensim) (1.16.2)\n",
            "Requirement already satisfied: scipy>=0.18.1 in /usr/local/lib/python3.6/dist-packages (from gensim) (1.2.1)\n",
            "Requirement already satisfied: smart-open>=1.2.1 in /usr/local/lib/python3.6/dist-packages (from gensim) (1.8.1)\n",
            "Requirement already satisfied: boto>=2.32 in /usr/local/lib/python3.6/dist-packages (from smart-open>=1.2.1->gensim) (2.49.0)\n",
            "Requirement already satisfied: bz2file in /usr/local/lib/python3.6/dist-packages (from smart-open>=1.2.1->gensim) (0.98)\n",
            "Requirement already satisfied: requests in /usr/local/lib/python3.6/dist-packages (from smart-open>=1.2.1->gensim) (2.18.4)\n",
            "Requirement already satisfied: boto3 in /usr/local/lib/python3.6/dist-packages (from smart-open>=1.2.1->gensim) (1.9.130)\n",
            "Requirement already satisfied: chardet<3.1.0,>=3.0.2 in /usr/local/lib/python3.6/dist-packages (from requests->smart-open>=1.2.1->gensim) (3.0.4)\n",
            "Requirement already satisfied: certifi>=2017.4.17 in /usr/local/lib/python3.6/dist-packages (from requests->smart-open>=1.2.1->gensim) (2019.3.9)\n",
            "Requirement already satisfied: idna<2.7,>=2.5 in /usr/local/lib/python3.6/dist-packages (from requests->smart-open>=1.2.1->gensim) (2.6)\n",
            "Requirement already satisfied: urllib3<1.23,>=1.21.1 in /usr/local/lib/python3.6/dist-packages (from requests->smart-open>=1.2.1->gensim) (1.22)\n",
            "Requirement already satisfied: jmespath<1.0.0,>=0.7.1 in /usr/local/lib/python3.6/dist-packages (from boto3->smart-open>=1.2.1->gensim) (0.9.4)\n",
            "Requirement already satisfied: s3transfer<0.3.0,>=0.2.0 in /usr/local/lib/python3.6/dist-packages (from boto3->smart-open>=1.2.1->gensim) (0.2.0)\n",
            "Requirement already satisfied: botocore<1.13.0,>=1.12.130 in /usr/local/lib/python3.6/dist-packages (from boto3->smart-open>=1.2.1->gensim) (1.12.130)\n",
            "Requirement already satisfied: python-dateutil<3.0.0,>=2.1; python_version >= \"2.7\" in /usr/local/lib/python3.6/dist-packages (from botocore<1.13.0,>=1.12.130->boto3->smart-open>=1.2.1->gensim) (2.5.3)\n",
            "Requirement already satisfied: docutils>=0.10 in /usr/local/lib/python3.6/dist-packages (from botocore<1.13.0,>=1.12.130->boto3->smart-open>=1.2.1->gensim) (0.14)\n",
            "Collecting pronouncing\n",
            "  Downloading https://files.pythonhosted.org/packages/7f/c6/9dc74a3ddca71c492e224116b6654592bfe5717b4a78582e4d9c3345d153/pronouncing-0.2.0.tar.gz\n",
            "Collecting cmudict>=0.4.0 (from pronouncing)\n",
            "\u001b[?25l  Downloading https://files.pythonhosted.org/packages/42/bc/606843d7cfe4d82f5a21fc46d1ae8e364ac20c57e68d1ec4190bce4f2734/cmudict-0.4.2-py2.py3-none-any.whl (938kB)\n",
            "\u001b[K    100% |████████████████████████████████| 942kB 7.3MB/s \n",
            "\u001b[?25hBuilding wheels for collected packages: pronouncing\n",
            "  Building wheel for pronouncing (setup.py) ... \u001b[?25ldone\n",
            "\u001b[?25h  Stored in directory: /root/.cache/pip/wheels/81/fd/e8/fb1a226f707c7e20dbed4c43f81b819d279ffd3b0e2f06ee13\n",
            "Successfully built pronouncing\n",
            "Installing collected packages: cmudict, pronouncing\n",
            "Successfully installed cmudict-0.4.2 pronouncing-0.2.0\n",
            "Collecting paramiko\n",
            "\u001b[?25l  Downloading https://files.pythonhosted.org/packages/cf/ae/94e70d49044ccc234bfdba20114fa947d7ba6eb68a2e452d89b920e62227/paramiko-2.4.2-py2.py3-none-any.whl (193kB)\n",
            "\u001b[K    100% |████████████████████████████████| 194kB 6.7MB/s \n",
            "\u001b[?25hCollecting bcrypt>=3.1.3 (from paramiko)\n",
            "\u001b[?25l  Downloading https://files.pythonhosted.org/packages/d0/79/79a4d167a31cc206117d9b396926615fa9c1fdbd52017bcced80937ac501/bcrypt-3.1.6-cp34-abi3-manylinux1_x86_64.whl (55kB)\n",
            "\u001b[K    100% |████████████████████████████████| 61kB 17.7MB/s \n",
            "\u001b[?25hRequirement already satisfied: pyasn1>=0.1.7 in /usr/local/lib/python3.6/dist-packages (from paramiko) (0.4.5)\n",
            "Collecting pynacl>=1.0.1 (from paramiko)\n",
            "\u001b[?25l  Downloading https://files.pythonhosted.org/packages/27/15/2cd0a203f318c2240b42cd9dd13c931ddd61067809fee3479f44f086103e/PyNaCl-1.3.0-cp34-abi3-manylinux1_x86_64.whl (759kB)\n",
            "\u001b[K    100% |████████████████████████████████| 768kB 21.6MB/s \n",
            "\u001b[?25hCollecting cryptography>=1.5 (from paramiko)\n",
            "\u001b[?25l  Downloading https://files.pythonhosted.org/packages/5b/12/b0409a94dad366d98a8eee2a77678c7a73aafd8c0e4b835abea634ea3896/cryptography-2.6.1-cp34-abi3-manylinux1_x86_64.whl (2.3MB)\n",
            "\u001b[K    100% |████████████████████████████████| 2.3MB 12.0MB/s \n",
            "\u001b[?25hRequirement already satisfied: cffi>=1.1 in /usr/local/lib/python3.6/dist-packages (from bcrypt>=3.1.3->paramiko) (1.12.2)\n",
            "Requirement already satisfied: six>=1.4.1 in /usr/local/lib/python3.6/dist-packages (from bcrypt>=3.1.3->paramiko) (1.11.0)\n",
            "Collecting asn1crypto>=0.21.0 (from cryptography>=1.5->paramiko)\n",
            "\u001b[?25l  Downloading https://files.pythonhosted.org/packages/ea/cd/35485615f45f30a510576f1a56d1e0a7ad7bd8ab5ed7cdc600ef7cd06222/asn1crypto-0.24.0-py2.py3-none-any.whl (101kB)\n",
            "\u001b[K    100% |████████████████████████████████| 102kB 27.7MB/s \n",
            "\u001b[?25hRequirement already satisfied: pycparser in /usr/local/lib/python3.6/dist-packages (from cffi>=1.1->bcrypt>=3.1.3->paramiko) (2.19)\n",
            "Installing collected packages: bcrypt, pynacl, asn1crypto, cryptography, paramiko\n",
            "Successfully installed asn1crypto-0.24.0 bcrypt-3.1.6 cryptography-2.6.1 paramiko-2.4.2 pynacl-1.3.0\n",
            "Requirement already satisfied: gdown in /usr/local/lib/python3.6/dist-packages (3.6.4)\n",
            "Requirement already satisfied: requests in /usr/local/lib/python3.6/dist-packages (from gdown) (2.18.4)\n",
            "Requirement already satisfied: six in /usr/local/lib/python3.6/dist-packages (from gdown) (1.11.0)\n",
            "Requirement already satisfied: tqdm in /usr/local/lib/python3.6/dist-packages (from gdown) (4.28.1)\n",
            "Requirement already satisfied: certifi>=2017.4.17 in /usr/local/lib/python3.6/dist-packages (from requests->gdown) (2019.3.9)\n",
            "Requirement already satisfied: idna<2.7,>=2.5 in /usr/local/lib/python3.6/dist-packages (from requests->gdown) (2.6)\n",
            "Requirement already satisfied: chardet<3.1.0,>=3.0.2 in /usr/local/lib/python3.6/dist-packages (from requests->gdown) (3.0.4)\n",
            "Requirement already satisfied: urllib3<1.23,>=1.21.1 in /usr/local/lib/python3.6/dist-packages (from requests->gdown) (1.22)\n"
          ],
          "name": "stdout"
        }
      ]
    },
    {
      "metadata": {
        "id": "JmE3tsoz52r3",
        "colab_type": "text"
      },
      "cell_type": "markdown",
      "source": [
        "Download the word2vec model and 250,000 words"
      ]
    },
    {
      "metadata": {
        "id": "QulOnq-C6T_E",
        "colab_type": "code",
        "colab": {
          "base_uri": "https://localhost:8080/",
          "height": 119
        },
        "outputId": "d7695d84-2354-4435-afeb-ab846aaa8035"
      },
      "cell_type": "code",
      "source": [
        "gdown.download(\"https://drive.google.com/uc?id=1wvRpiGriuvqwHV3dkHyZQKliWQNLSUmn\", \"./googlemodel.gz\", False)\n",
        "\n",
        "print(\"loading model...\")\n",
        "model = gensim.models.KeyedVectors.load_word2vec_format(\"/content/googlemodel.gz\", binary=True, limit=250000)\n",
        "print(\"model loaded.\")"
      ],
      "execution_count": 3,
      "outputs": [
        {
          "output_type": "stream",
          "text": [
            "Downloading...\n",
            "From: https://drive.google.com/uc?id=1wvRpiGriuvqwHV3dkHyZQKliWQNLSUmn\n",
            "To: /content/googlemodel.gz\n",
            "1.65GB [00:15, 103MB/s]\n"
          ],
          "name": "stderr"
        },
        {
          "output_type": "stream",
          "text": [
            "loading model...\n",
            "model loaded.\n"
          ],
          "name": "stdout"
        }
      ]
    },
    {
      "metadata": {
        "id": "wnnNUsVR65Jq",
        "colab_type": "text"
      },
      "cell_type": "markdown",
      "source": [
        "Define `reword(string, string, (int))`  \n",
        "Uses google's word2vec and the pronouncing library to find two words that rhyme with each other and are related to the input terms  \n",
        "The larger `increment` is the more results will be printed"
      ]
    },
    {
      "metadata": {
        "id": "ky8TZlRX7M39",
        "colab_type": "code",
        "colab": {}
      },
      "cell_type": "code",
      "source": [
        "def reword(word1, word2, increment=50):\n",
        "    try:\n",
        "        found = False\n",
        "        count = 0\n",
        "        while not found:\n",
        "            count += increment\n",
        "            similar1 = model.wv.most_similar(positive=word1, topn=count)\n",
        "            similar2 = model.wv.most_similar(positive=word2, topn=count)\n",
        "            for sim1 in similar1:\n",
        "                for sim2 in similar2:\n",
        "                    if sim1[0] in pronouncing.rhymes(sim2[0]) or sim2[0] in pronouncing.rhymes(sim1[0]):\n",
        "                        match1 = sim1[0].lower()\n",
        "                        match2 = sim2[0].lower()\n",
        "                        if match1 != match2:\n",
        "                            print(\"\\t\", sim1[0], sim2[0])\n",
        "                            found = True\n",
        "    except:\n",
        "        print(\"Unknown Word\")"
      ],
      "execution_count": 0,
      "outputs": []
    },
    {
      "metadata": {
        "id": "QTfae6hX7P6z",
        "colab_type": "text"
      },
      "cell_type": "markdown",
      "source": [
        "Continues to promt the user for two words to `reword`  \n",
        "the user can input a third int argument to specify the `increment` value"
      ]
    },
    {
      "metadata": {
        "id": "V9jD08697Yzp",
        "colab_type": "code",
        "colab": {
          "base_uri": "https://localhost:8080/",
          "height": 887
        },
        "outputId": "74f5d092-2e81-440c-8a27-46df5a5d2745"
      },
      "cell_type": "code",
      "source": [
        "while True:\n",
        "    words = input(\"What do you call a \").split(\" \")\n",
        "    if len(words) != 2:\n",
        "        if (len(words) == 3 and words[2].isdecimal()):\n",
        "            reword(words[0], words[1], int(words[2]))\n",
        "        else:\n",
        "            print(\"Wrong format\")\n",
        "    else:\n",
        "        print(\"it's called a...\")\n",
        "        reword(words[0], words[1])"
      ],
      "execution_count": 0,
      "outputs": [
        {
          "output_type": "stream",
          "text": [
            "it's called a...\n"
          ],
          "name": "stdout"
        },
        {
          "output_type": "stream",
          "text": [
            "/usr/local/lib/python3.6/dist-packages/ipykernel_launcher.py:7: DeprecationWarning: Call to deprecated `wv` (Attribute will be removed in 4.0.0, use self instead).\n",
            "  import sys\n",
            "/usr/local/lib/python3.6/dist-packages/gensim/matutils.py:737: FutureWarning: Conversion of the second argument of issubdtype from `int` to `np.signedinteger` is deprecated. In future, it will be treated as `np.int64 == np.dtype(int).type`.\n",
            "  if np.issubdtype(vec.dtype, np.int):\n",
            "/usr/local/lib/python3.6/dist-packages/ipykernel_launcher.py:8: DeprecationWarning: Call to deprecated `wv` (Attribute will be removed in 4.0.0, use self instead).\n",
            "  \n"
          ],
          "name": "stderr"
        },
        {
          "output_type": "stream",
          "text": [
            "\t monkey hunky\n",
            "it's called a...\n",
            "\t small lol\n",
            "\t lot twat\n",
            "it's called a...\n",
            "\t campfire wildfire\n",
            "\t campfire gunfire\n",
            "\t campfire Wildfire\n",
            "\t organization conflagration\n",
            "it's called a...\n",
            "\t blaze days\n",
            "\t inferno tomorrow\n",
            "\t ablaze days\n",
            "\t alight night\n",
            "\t alight overnight\n",
            "it's called a...\n",
            "\t translation publication\n",
            "\t annotation publication\n",
            "\t punctuation publication\n",
            "it's called a...\n",
            "\t critter litter\n",
            "\t kangaroo poo\n",
            "Wrong format\n",
            "it's called a...\n",
            "\t always screenplays\n",
            "it's called a...\n",
            "Unknown Word\n",
            "it's called a...\n",
            "\t like mike\n",
            "it's called a...\n",
            "Unknown Word\n",
            "it's called a...\n",
            "\t driftwood plywood\n",
            "\t handmade promenade\n",
            "\t handmade colonnade\n",
            "\t rosewood plywood\n",
            "\t antique teak\n",
            "\t xylophone keystone\n",
            "\t xylophone cornerstone\n",
            "\t bookcase staircase\n",
            "\t redwood plywood\n",
            "it's called a...\n",
            "\t lot twat\n"
          ],
          "name": "stdout"
        }
      ]
    }
  ]
}