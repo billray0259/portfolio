{
  "nbformat": 4,
  "nbformat_minor": 0,
  "metadata": {
    "colab": {
      "name": "Face Autoencoder.ipynb",
      "version": "0.3.2",
      "provenance": [],
      "collapsed_sections": [],
      "include_colab_link": true
    },
    "kernelspec": {
      "name": "python3",
      "display_name": "Python 3"
    },
    "accelerator": "GPU"
  },
  "cells": [
    {
      "cell_type": "markdown",
      "metadata": {
        "id": "view-in-github",
        "colab_type": "text"
      },
      "source": [
        "<a href=\"https://colab.research.google.com/github/billray0259/portfolio/blob/master/Face_Autoencoder.ipynb\" target=\"_parent\"><img src=\"https://colab.research.google.com/assets/colab-badge.svg\" alt=\"Open In Colab\"/></a>"
      ]
    },
    {
      "metadata": {
        "id": "FHyBz_XGQ_tD",
        "colab_type": "text"
      },
      "cell_type": "markdown",
      "source": [
        "# Face Autoencoder that only Makes Ghosts\n",
        "Using the UMass created Labeld Faces in the Wild dataset, this autoencoder attempts to learn to encode and recreate human faces.  \n",
        "As of yet, the model does not do this.  \n",
        "Instead it generates roughly the same ghostly image regardless of the input image.  \n",
        ">><img src=\"https://i.imgur.com/4Y3YMG1.png\" alt=\"Model input and outputs\" width=\"300\"/>\n"
      ]
    },
    {
      "metadata": {
        "id": "gEBrJ8lfQ3mT",
        "colab_type": "text"
      },
      "cell_type": "markdown",
      "source": [
        "Install and import libraries"
      ]
    },
    {
      "metadata": {
        "id": "xwhWAXyNISrn",
        "colab_type": "code",
        "colab": {}
      },
      "cell_type": "code",
      "source": [
        "!pip install tensorflow-gpu\n",
        "!pip install numpy\n",
        "!pip install matplotlib\n",
        "!pip install tqdm\n",
        "!pip install gdown\n",
        "\n",
        "import numpy as np\n",
        "import tensorflow as tf\n",
        "import matplotlib.pyplot as plt\n",
        "from tqdm import tqdm\n",
        "import gdown\n",
        "import math"
      ],
      "execution_count": 0,
      "outputs": []
    },
    {
      "metadata": {
        "id": "MKUlJ7qWTIEu",
        "colab_type": "text"
      },
      "cell_type": "markdown",
      "source": [
        "<b> This is meaningless in the jupyter notebook. </b>  \n",
        "I need to find another way to load the data"
      ]
    },
    {
      "metadata": {
        "id": "IorT0BE8L4Sv",
        "colab_type": "code",
        "colab": {
          "base_uri": "https://localhost:8080/",
          "height": 102
        },
        "outputId": "44218dbc-9182-4bfe-be7f-38f7ce096e76"
      },
      "cell_type": "code",
      "source": [
        "gdown.download(\"https://drive.google.com/uc?id=1qYaKf2-chA5HI-oPGN6nUlMJMuO7o17H\", \"./data.npy\", False)\n",
        "\n",
        "data = np.load(\"/content/data.npy\")\n",
        "print(np.shape(data))"
      ],
      "execution_count": 4,
      "outputs": [
        {
          "output_type": "stream",
          "text": [
            "Downloading...\n",
            "From: https://drive.google.com/uc?id=1qYaKf2-chA5HI-oPGN6nUlMJMuO7o17H\n",
            "To: /content/data.npy\n",
            "127MB [00:00, 129MB/s] \n"
          ],
          "name": "stderr"
        },
        {
          "output_type": "stream",
          "text": [
            "(4001, 3969)\n"
          ],
          "name": "stdout"
        }
      ]
    },
    {
      "metadata": {
        "id": "pP3eGOppTR-g",
        "colab_type": "text"
      },
      "cell_type": "markdown",
      "source": [
        "Create and initialize variables to define the model architecture"
      ]
    },
    {
      "metadata": {
        "id": "kaU7i_4OTSuH",
        "colab_type": "code",
        "colab": {}
      },
      "cell_type": "code",
      "source": [
        "epochs = 100\n",
        "batch_size = 100\n",
        "scale = 8\n",
        "img_side_length = 63\n",
        "img_size = img_side_length**2\n",
        "stddev = 1\n",
        "transfer_function = tf.nn.relu"
      ],
      "execution_count": 0,
      "outputs": []
    },
    {
      "metadata": {
        "id": "Ih_BkbrZTevN",
        "colab_type": "text"
      },
      "cell_type": "markdown",
      "source": [
        "### Structure\n",
        "The autoencoder is a symetrical network with 8 fully connected layers  \n",
        "Four layers to encode, four to decode  \n",
        "### Weight Initialization\n",
        "I found that initializing the weight matricies to identity matricies plus some noise helped the network learn faster  \n",
        "This sort of makes sense because the idea of an autoencoder is to not change the input  \n",
        "I used `leaky relus` to avoid dead relus and fading gradients associated with `sigmoid` and `tanh`"
      ]
    },
    {
      "metadata": {
        "id": "KnOQYGWtTfBn",
        "colab_type": "code",
        "colab": {}
      },
      "cell_type": "code",
      "source": [
        "sess = tf.InteractiveSession()\n",
        "\n",
        "img = tf.placeholder(dtype=tf.float32)\n",
        "\n",
        "size0 = img_size // scale**1\n",
        "w0 = tf.Variable(tf.eye(img_size, size0) + tf.truncated_normal([img_size, size0], stddev=stddev))\n",
        "b0 = tf.Variable(tf.zeros([size0]))\n",
        "h0 = tf.nn.leaky_relu(tf.matmul(img, w0) + b0)\n",
        "\n",
        "size1 = img_size // scale**2\n",
        "w1 = tf.Variable(tf.eye(size0, size1) + tf.truncated_normal([size0, size1], stddev=stddev))\n",
        "b1 = tf.Variable(tf.zeros([size1]))\n",
        "h1 = tf.nn.leaky_relu(tf.matmul(h0, w1) + b1)\n",
        "\n",
        "size2 = img_size // scale**3\n",
        "w2 = tf.Variable(tf.eye(size1, size2) + tf.truncated_normal([size1, size2], stddev=stddev))\n",
        "b2 = tf.Variable(tf.zeros([size2]))\n",
        "h2 = tf.nn.leaky_relu(tf.matmul(h1, w2) + b2)\n",
        "\n",
        "size3 = img_size // scale**4\n",
        "w3 = tf.Variable(tf.eye(size2, size3) + tf.truncated_normal([size2, size3], stddev=stddev))\n",
        "b3 = tf.Variable(tf.zeros([size3]))\n",
        "h3 = tf.nn.leaky_relu(tf.matmul(h2, w3) + b3)\n",
        "\n",
        "size4 = img_size // scale**3\n",
        "w4 = tf.Variable(tf.eye(size3, size4) + tf.truncated_normal([size3, size4], stddev=stddev))\n",
        "b4 = tf.Variable(tf.zeros([size4]))\n",
        "h4 = tf.nn.leaky_relu(tf.matmul(h3, w4) + b4)\n",
        "\n",
        "size5 = img_size // scale**2\n",
        "w5 = tf.Variable(tf.eye(size4, size5) + tf.truncated_normal([size4, size5], stddev=stddev))\n",
        "b5 = tf.Variable(tf.zeros([size5]))\n",
        "h5 = tf.nn.leaky_relu(tf.matmul(h4, w5) + b5)\n",
        "\n",
        "size6 = img_size // scale**1\n",
        "w6 = tf.Variable(tf.eye(size5, size6) + tf.truncated_normal([size5, size6], stddev=stddev))\n",
        "b6 = tf.Variable(tf.zeros([size6]))\n",
        "h6 = tf.nn.leaky_relu(tf.matmul(h5, w6) + b6)\n",
        "\n",
        "size7 = img_size // scale**0\n",
        "w7 = tf.Variable(tf.eye(size6, size7) + tf.truncated_normal([size6, size7], stddev=stddev))\n",
        "b7 = tf.Variable(tf.zeros([size7]))\n",
        "output = tf.nn.leaky_relu(tf.matmul(h6, w7) + b7)\n",
        "\n",
        "# Maybe there is a better loss function to use than mean squard error\n",
        "loss = tf.losses.mean_squared_error(img, output)\n",
        "train_step = tf.train.AdamOptimizer(0.001).minimize(loss)\n",
        "\n",
        "sess.run(tf.global_variables_initializer())"
      ],
      "execution_count": 0,
      "outputs": []
    },
    {
      "metadata": {
        "id": "bjg2g-L5VeJO",
        "colab_type": "text"
      },
      "cell_type": "markdown",
      "source": [
        "### Training the Model\n",
        "The model is trained for `epoch` epochs with a batch size of `batch_size`  \n",
        "Every epoch the loss is logged to be graphed later  \n",
        "Every five epochs the loss is printed"
      ]
    },
    {
      "metadata": {
        "id": "-lpiNjEoVeiZ",
        "colab_type": "code",
        "colab": {
          "base_uri": "https://localhost:8080/",
          "height": 374
        },
        "outputId": "a2cffc21-da79-4dff-d2c5-8bed2b04a589"
      },
      "cell_type": "code",
      "source": [
        "losses = []\n",
        "for epoch in tqdm(range(epochs)):\n",
        "    for i in range(len(data)//batch_size):\n",
        "        train_step.run(feed_dict={\n",
        "            img: data[i*batch_size:(i+1)*batch_size]\n",
        "        })\n",
        "        \n",
        "    l = loss.eval(feed_dict={\n",
        "        img: data\n",
        "    })\n",
        "    \n",
        "    losses.append(l)\n",
        "    \n",
        "    if epoch % 5 == 0:\n",
        "        print(l, math.log10(l))"
      ],
      "execution_count": 7,
      "outputs": [
        {
          "output_type": "stream",
          "text": [
            "  1%|          | 1/100 [00:01<01:46,  1.07s/it]"
          ],
          "name": "stderr"
        },
        {
          "output_type": "stream",
          "text": [
            "0.10599144 -0.9747292155464371\n"
          ],
          "name": "stdout"
        },
        {
          "output_type": "stream",
          "text": [
            "  6%|▌         | 6/100 [00:02<00:36,  2.54it/s]"
          ],
          "name": "stderr"
        },
        {
          "output_type": "stream",
          "text": [
            "0.03908701 -1.4079675647010874\n"
          ],
          "name": "stdout"
        },
        {
          "output_type": "stream",
          "text": [
            " 11%|█         | 11/100 [00:03<00:24,  3.69it/s]"
          ],
          "name": "stderr"
        },
        {
          "output_type": "stream",
          "text": [
            "0.03914867 -1.4072829911067903\n"
          ],
          "name": "stdout"
        },
        {
          "output_type": "stream",
          "text": [
            " 16%|█▌        | 16/100 [00:04<00:20,  4.04it/s]"
          ],
          "name": "stderr"
        },
        {
          "output_type": "stream",
          "text": [
            "0.039137494 -1.407406987963342\n"
          ],
          "name": "stdout"
        },
        {
          "output_type": "stream",
          "text": [
            " 21%|██        | 21/100 [00:06<00:18,  4.22it/s]"
          ],
          "name": "stderr"
        },
        {
          "output_type": "stream",
          "text": [
            "0.03913805 -1.4074008286172253\n"
          ],
          "name": "stdout"
        },
        {
          "output_type": "stream",
          "text": [
            " 26%|██▌       | 26/100 [00:07<00:17,  4.22it/s]"
          ],
          "name": "stderr"
        },
        {
          "output_type": "stream",
          "text": [
            "0.03917058 -1.4070399773096511\n"
          ],
          "name": "stdout"
        },
        {
          "output_type": "stream",
          "text": [
            " 31%|███       | 31/100 [00:08<00:16,  4.21it/s]"
          ],
          "name": "stderr"
        },
        {
          "output_type": "stream",
          "text": [
            "0.039105475 -1.4077624350943252\n"
          ],
          "name": "stdout"
        },
        {
          "output_type": "stream",
          "text": [
            " 36%|███▌      | 36/100 [00:09<00:14,  4.32it/s]"
          ],
          "name": "stderr"
        },
        {
          "output_type": "stream",
          "text": [
            "0.03924985 -1.4061620144201141\n"
          ],
          "name": "stdout"
        },
        {
          "output_type": "stream",
          "text": [
            " 41%|████      | 41/100 [00:10<00:13,  4.34it/s]"
          ],
          "name": "stderr"
        },
        {
          "output_type": "stream",
          "text": [
            "0.038987443 -1.40907524883588\n"
          ],
          "name": "stdout"
        },
        {
          "output_type": "stream",
          "text": [
            " 46%|████▌     | 46/100 [00:11<00:12,  4.26it/s]"
          ],
          "name": "stderr"
        },
        {
          "output_type": "stream",
          "text": [
            "0.03899366 -1.409005995389466\n"
          ],
          "name": "stdout"
        },
        {
          "output_type": "stream",
          "text": [
            " 51%|█████     | 51/100 [00:13<00:11,  4.17it/s]"
          ],
          "name": "stderr"
        },
        {
          "output_type": "stream",
          "text": [
            "0.039026894 -1.4086360147795192\n"
          ],
          "name": "stdout"
        },
        {
          "output_type": "stream",
          "text": [
            " 56%|█████▌    | 56/100 [00:14<00:10,  4.19it/s]"
          ],
          "name": "stderr"
        },
        {
          "output_type": "stream",
          "text": [
            "0.039058834 -1.4082807220927451\n"
          ],
          "name": "stdout"
        },
        {
          "output_type": "stream",
          "text": [
            " 61%|██████    | 61/100 [00:15<00:09,  4.27it/s]"
          ],
          "name": "stderr"
        },
        {
          "output_type": "stream",
          "text": [
            "0.03908279 -1.4080144224966185\n"
          ],
          "name": "stdout"
        },
        {
          "output_type": "stream",
          "text": [
            " 66%|██████▌   | 66/100 [00:16<00:07,  4.32it/s]"
          ],
          "name": "stderr"
        },
        {
          "output_type": "stream",
          "text": [
            "0.039096747 -1.407859380588381\n"
          ],
          "name": "stdout"
        },
        {
          "output_type": "stream",
          "text": [
            " 71%|███████   | 71/100 [00:17<00:06,  4.35it/s]"
          ],
          "name": "stderr"
        },
        {
          "output_type": "stream",
          "text": [
            "0.039033726 -1.4085599923460768\n"
          ],
          "name": "stdout"
        },
        {
          "output_type": "stream",
          "text": [
            " 76%|███████▌  | 76/100 [00:18<00:05,  4.35it/s]"
          ],
          "name": "stderr"
        },
        {
          "output_type": "stream",
          "text": [
            "0.039028525 -1.408617857721579\n"
          ],
          "name": "stdout"
        },
        {
          "output_type": "stream",
          "text": [
            " 81%|████████  | 81/100 [00:20<00:04,  4.34it/s]"
          ],
          "name": "stderr"
        },
        {
          "output_type": "stream",
          "text": [
            "0.039064966 -1.4082125477596734\n"
          ],
          "name": "stdout"
        },
        {
          "output_type": "stream",
          "text": [
            " 86%|████████▌ | 86/100 [00:21<00:03,  4.32it/s]"
          ],
          "name": "stderr"
        },
        {
          "output_type": "stream",
          "text": [
            "0.03908277 -1.4080146708729622\n"
          ],
          "name": "stdout"
        },
        {
          "output_type": "stream",
          "text": [
            " 91%|█████████ | 91/100 [00:22<00:02,  4.30it/s]"
          ],
          "name": "stderr"
        },
        {
          "output_type": "stream",
          "text": [
            "0.039092783 -1.4079034124915362\n"
          ],
          "name": "stdout"
        },
        {
          "output_type": "stream",
          "text": [
            " 96%|█████████▌| 96/100 [00:23<00:00,  4.32it/s]"
          ],
          "name": "stderr"
        },
        {
          "output_type": "stream",
          "text": [
            "0.039060898 -1.4082577752232317\n"
          ],
          "name": "stdout"
        },
        {
          "output_type": "stream",
          "text": [
            "100%|██████████| 100/100 [00:24<00:00,  4.32it/s]\n"
          ],
          "name": "stderr"
        }
      ]
    },
    {
      "metadata": {
        "id": "7rb1QNDqWOdS",
        "colab_type": "text"
      },
      "cell_type": "markdown",
      "source": [
        "Graphs the loss then passes `num_samples` images through the autoencoder to display the output  \n",
        "This is where the ghost faces come from"
      ]
    },
    {
      "metadata": {
        "id": "jemvC3FRWO6b",
        "colab_type": "code",
        "colab": {
          "base_uri": "https://localhost:8080/",
          "height": 447
        },
        "outputId": "ee18d76b-a000-4511-929b-b565ca18eff5"
      },
      "cell_type": "code",
      "source": [
        "plt.plot(losses)\n",
        "plt.show()\n",
        "\n",
        "num_samples = 6\n",
        "\n",
        "rand_batch = np.random.randint(0, len(data)//batch_size)\n",
        "display_batch = data[rand_batch * batch_size:(rand_batch + 1) * batch_size]\n",
        "\n",
        "label = display_batch.reshape([-1, img_side_length, img_side_length])\n",
        "prediction = output.eval(feed_dict={\n",
        "    img: display_batch\n",
        "}).reshape([-1, img_side_length, img_side_length])\n",
        "for i in range(num_samples-2):\n",
        "    plt.subplot(num_samples, 2, (i + 2) * 2 + 1)\n",
        "    plt.imshow(label[i])\n",
        "    plt.subplot(num_samples, 2, (i + 2) * 2 + 2)\n",
        "    plt.imshow(prediction[i])\n",
        "plt.show()"
      ],
      "execution_count": 8,
      "outputs": [
        {
          "output_type": "display_data",
          "data": {
            "image/png": "[encoded data removed]",
            "text/plain": [
              "<Figure size 432x288 with 1 Axes>"
            ]
          },
          "metadata": {
            "tags": []
          }
        },
        {
          "output_type": "display_data",
          "data": {
            "image/png": "[encoded data removed]",
            "text/plain": [
              "<Figure size 432x288 with 8 Axes>"
            ]
          },
          "metadata": {
            "tags": []
          }
        }
      ]
    }
  ]
}