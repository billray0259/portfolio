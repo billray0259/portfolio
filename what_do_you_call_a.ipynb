{
  "nbformat": 4,
  "nbformat_minor": 0,
  "metadata": {
    "colab": {
      "name": "what_do_you_call_a.ipynb",
      "version": "0.3.2",
      "provenance": [],
      "collapsed_sections": [],
      "include_colab_link": true
    },
    "kernelspec": {
      "name": "python3",
      "display_name": "Python 3"
    }
  },
  "cells": [
    {
      "cell_type": "markdown",
      "metadata": {
        "id": "view-in-github",
        "colab_type": "text"
      },
      "source": [
        "<a href=\"https://colab.research.google.com/github/billray0259/portfolio/blob/master/what_do_you_call_a.ipynb\" target=\"_parent\"><img src=\"https://colab.research.google.com/assets/colab-badge.svg\" alt=\"Open In Colab\"/></a>"
      ]
    },
    {
      "metadata": {
        "id": "tW1ucGNiRD_l",
        "colab_type": "text"
      },
      "cell_type": "markdown",
      "source": [
        "##What do you call a...\n",
        "Finds new rhyming ways to say two-word phrases!\n",
        ">For example:\n",
        ">* play ground $\\rightarrow$ comeback tarmac\n",
        ">* wind shield $\\rightarrow$ rain restrain\n",
        ">* Bill Ray $\\rightarrow$ legislation illumination\n",
        "\n",
        "Google's [word2vec](https://drive.google.com/file/d/0B7XkCwpI5KDYNlNUTTlSS21pQmM/edit) model is used to find related words for each input.  \n",
        "Next the [pronouncing library](https://pypi.org/project/pronouncing/) is used to pair up rhyming results.  \n",
        "The ouput is creative, often amusing, word combinations that resemble the input phrase\n"
      ]
    },
    {
      "metadata": {
        "id": "g9jW9SUh5z_w",
        "colab_type": "text"
      },
      "cell_type": "markdown",
      "source": [
        "Get imports"
      ]
    },
    {
      "metadata": {
        "id": "hgdVx60-530X",
        "colab_type": "code",
        "colab": {}
      },
      "cell_type": "code",
      "source": [
        "!pip install gensim\n",
        "!pip install pronouncing\n",
        "!pip install paramiko\n",
        "!pip install gdown\n",
        "\n",
        "import gensim\n",
        "import pronouncing\n",
        "import gdown"
      ],
      "execution_count": 0,
      "outputs": []
    },
    {
      "metadata": {
        "id": "JmE3tsoz52r3",
        "colab_type": "text"
      },
      "cell_type": "markdown",
      "source": [
        "Download the word2vec model and 250,000 words"
      ]
    },
    {
      "metadata": {
        "id": "QulOnq-C6T_E",
        "colab_type": "code",
        "colab": {}
      },
      "cell_type": "code",
      "source": [
        "gdown.download(\"https://drive.google.com/uc?id=1wvRpiGriuvqwHV3dkHyZQKliWQNLSUmn\", \"./googlemodel.gz\", False)\n",
        "\n",
        "print(\"loading model...\")\n",
        "model = gensim.models.KeyedVectors.load_word2vec_format(\"/content/googlemodel.gz\", binary=True, limit=250000)\n",
        "print(\"model loaded.\")"
      ],
      "execution_count": 0,
      "outputs": []
    },
    {
      "metadata": {
        "id": "wnnNUsVR65Jq",
        "colab_type": "text"
      },
      "cell_type": "markdown",
      "source": [
        "Define `reword(string, string, (int))`  \n",
        "Uses google's word2vec and the pronouncing library to find two words that rhyme with each other and are related to the input terms  \n",
        "The larger `increment` is the more results will be printed"
      ]
    },
    {
      "metadata": {
        "id": "ky8TZlRX7M39",
        "colab_type": "code",
        "colab": {}
      },
      "cell_type": "code",
      "source": [
        "def reword(word1, word2, increment=50):\n",
        "    try:\n",
        "        found = False\n",
        "        count = 0\n",
        "        while not found:\n",
        "            count += increment\n",
        "            similar1 = model.wv.most_similar(positive=word1, topn=count)\n",
        "            similar2 = model.wv.most_similar(positive=word2, topn=count)\n",
        "            for sim1 in similar1:\n",
        "                for sim2 in similar2:\n",
        "                    if sim1[0] in pronouncing.rhymes(sim2[0]) or sim2[0] in pronouncing.rhymes(sim1[0]):\n",
        "                        match1 = sim1[0].lower()\n",
        "                        match2 = sim2[0].lower()\n",
        "                        if match1 != match2:\n",
        "                            print(\"\\t\", sim1[0], sim2[0])\n",
        "                            found = True\n",
        "    except:\n",
        "        print(\"Unknown Word\")"
      ],
      "execution_count": 0,
      "outputs": []
    },
    {
      "metadata": {
        "id": "QTfae6hX7P6z",
        "colab_type": "text"
      },
      "cell_type": "markdown",
      "source": [
        "Continues to promt the user for two words to `reword`  \n",
        "the user can input a third int argument to specify the `increment` value"
      ]
    },
    {
      "metadata": {
        "id": "V9jD08697Yzp",
        "colab_type": "code",
        "colab": {}
      },
      "cell_type": "code",
      "source": [
        "while True:\n",
        "    words = input(\"What do you call a \").split(\" \")\n",
        "    if len(words) != 2:\n",
        "        if (len(words) == 3 and words[2].isdecimal()):\n",
        "            reword(words[0], words[1], int(words[2]))\n",
        "        else:\n",
        "            print(\"Wrong format\")\n",
        "    else:\n",
        "        print(\"it's called a...\")\n",
        "        reword(words[0], words[1])"
      ],
      "execution_count": 0,
      "outputs": []
    }
  ]
}