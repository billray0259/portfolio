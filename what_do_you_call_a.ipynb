{
  "nbformat": 4,
  "nbformat_minor": 0,
  "metadata": {
    "colab": {
      "name": "what_do_you_call_a.ipynb",
      "version": "0.3.2",
      "provenance": [],
      "collapsed_sections": [],
      "include_colab_link": true
    },
    "kernelspec": {
      "name": "python3",
      "display_name": "Python 3"
    }
  },
  "cells": [
    {
      "cell_type": "markdown",
      "metadata": {
        "id": "view-in-github",
        "colab_type": "text"
      },
      "source": [
        "<a href=\"https://colab.research.google.com/github/billray0259/portfolio/blob/master/what_do_you_call_a.ipynb\" target=\"_parent\"><img src=\"https://colab.research.google.com/assets/colab-badge.svg\" alt=\"Open In Colab\"/></a>"
      ]
    },
    {
      "metadata": {
        "id": "g9jW9SUh5z_w",
        "colab_type": "text"
      },
      "cell_type": "markdown",
      "source": [
        "Get imports"
      ]
    },
    {
      "metadata": {
        "id": "hgdVx60-530X",
        "colab_type": "code",
        "outputId": "2c40ac79-659d-4c3b-c0a5-101768d7f287",
        "colab": {
          "base_uri": "https://localhost:8080/",
          "height": 646
        }
      },
      "cell_type": "code",
      "source": [
        "!pip install gensim\n",
        "!pip install pronouncing\n",
        "!pip install paramiko\n",
        "!pip install gdown\n",
        "\n",
        "import gensim\n",
        "import pronouncing\n",
        "import gdown"
      ],
      "execution_count": 1,
      "outputs": [
        {
          "output_type": "stream",
          "text": [
            "Requirement already satisfied: gensim in /usr/local/lib/python3.6/dist-packages (3.6.0)\n",
            "Requirement already satisfied: numpy>=1.11.3 in /usr/local/lib/python3.6/dist-packages (from gensim) (1.16.2)\n",
            "Requirement already satisfied: scipy>=0.18.1 in /usr/local/lib/python3.6/dist-packages (from gensim) (1.2.1)\n",
            "Requirement already satisfied: smart-open>=1.2.1 in /usr/local/lib/python3.6/dist-packages (from gensim) (1.8.1)\n",
            "Requirement already satisfied: six>=1.5.0 in /usr/local/lib/python3.6/dist-packages (from gensim) (1.11.0)\n",
            "Requirement already satisfied: boto>=2.32 in /usr/local/lib/python3.6/dist-packages (from smart-open>=1.2.1->gensim) (2.49.0)\n",
            "Requirement already satisfied: bz2file in /usr/local/lib/python3.6/dist-packages (from smart-open>=1.2.1->gensim) (0.98)\n",
            "Requirement already satisfied: requests in /usr/local/lib/python3.6/dist-packages (from smart-open>=1.2.1->gensim) (2.18.4)\n",
            "Requirement already satisfied: boto3 in /usr/local/lib/python3.6/dist-packages (from smart-open>=1.2.1->gensim) (1.9.130)\n",
            "Requirement already satisfied: chardet<3.1.0,>=3.0.2 in /usr/local/lib/python3.6/dist-packages (from requests->smart-open>=1.2.1->gensim) (3.0.4)\n",
            "Requirement already satisfied: urllib3<1.23,>=1.21.1 in /usr/local/lib/python3.6/dist-packages (from requests->smart-open>=1.2.1->gensim) (1.22)\n",
            "Requirement already satisfied: certifi>=2017.4.17 in /usr/local/lib/python3.6/dist-packages (from requests->smart-open>=1.2.1->gensim) (2019.3.9)\n",
            "Requirement already satisfied: idna<2.7,>=2.5 in /usr/local/lib/python3.6/dist-packages (from requests->smart-open>=1.2.1->gensim) (2.6)\n",
            "Requirement already satisfied: jmespath<1.0.0,>=0.7.1 in /usr/local/lib/python3.6/dist-packages (from boto3->smart-open>=1.2.1->gensim) (0.9.4)\n",
            "Requirement already satisfied: s3transfer<0.3.0,>=0.2.0 in /usr/local/lib/python3.6/dist-packages (from boto3->smart-open>=1.2.1->gensim) (0.2.0)\n",
            "Requirement already satisfied: botocore<1.13.0,>=1.12.130 in /usr/local/lib/python3.6/dist-packages (from boto3->smart-open>=1.2.1->gensim) (1.12.130)\n",
            "Requirement already satisfied: docutils>=0.10 in /usr/local/lib/python3.6/dist-packages (from botocore<1.13.0,>=1.12.130->boto3->smart-open>=1.2.1->gensim) (0.14)\n",
            "Requirement already satisfied: python-dateutil<3.0.0,>=2.1; python_version >= \"2.7\" in /usr/local/lib/python3.6/dist-packages (from botocore<1.13.0,>=1.12.130->boto3->smart-open>=1.2.1->gensim) (2.5.3)\n",
            "Requirement already satisfied: pronouncing in /usr/local/lib/python3.6/dist-packages (0.2.0)\n",
            "Requirement already satisfied: cmudict>=0.4.0 in /usr/local/lib/python3.6/dist-packages (from pronouncing) (0.4.2)\n",
            "Requirement already satisfied: paramiko in /usr/local/lib/python3.6/dist-packages (2.4.2)\n",
            "Requirement already satisfied: bcrypt>=3.1.3 in /usr/local/lib/python3.6/dist-packages (from paramiko) (3.1.6)\n",
            "Requirement already satisfied: cryptography>=1.5 in /usr/local/lib/python3.6/dist-packages (from paramiko) (2.6.1)\n",
            "Requirement already satisfied: pynacl>=1.0.1 in /usr/local/lib/python3.6/dist-packages (from paramiko) (1.3.0)\n",
            "Requirement already satisfied: pyasn1>=0.1.7 in /usr/local/lib/python3.6/dist-packages (from paramiko) (0.4.5)\n",
            "Requirement already satisfied: six>=1.4.1 in /usr/local/lib/python3.6/dist-packages (from bcrypt>=3.1.3->paramiko) (1.11.0)\n",
            "Requirement already satisfied: cffi>=1.1 in /usr/local/lib/python3.6/dist-packages (from bcrypt>=3.1.3->paramiko) (1.12.2)\n",
            "Requirement already satisfied: asn1crypto>=0.21.0 in /usr/local/lib/python3.6/dist-packages (from cryptography>=1.5->paramiko) (0.24.0)\n",
            "Requirement already satisfied: pycparser in /usr/local/lib/python3.6/dist-packages (from cffi>=1.1->bcrypt>=3.1.3->paramiko) (2.19)\n",
            "Requirement already satisfied: gdown in /usr/local/lib/python3.6/dist-packages (3.6.4)\n",
            "Requirement already satisfied: requests in /usr/local/lib/python3.6/dist-packages (from gdown) (2.18.4)\n",
            "Requirement already satisfied: six in /usr/local/lib/python3.6/dist-packages (from gdown) (1.11.0)\n",
            "Requirement already satisfied: tqdm in /usr/local/lib/python3.6/dist-packages (from gdown) (4.28.1)\n",
            "Requirement already satisfied: chardet<3.1.0,>=3.0.2 in /usr/local/lib/python3.6/dist-packages (from requests->gdown) (3.0.4)\n",
            "Requirement already satisfied: certifi>=2017.4.17 in /usr/local/lib/python3.6/dist-packages (from requests->gdown) (2019.3.9)\n",
            "Requirement already satisfied: idna<2.7,>=2.5 in /usr/local/lib/python3.6/dist-packages (from requests->gdown) (2.6)\n",
            "Requirement already satisfied: urllib3<1.23,>=1.21.1 in /usr/local/lib/python3.6/dist-packages (from requests->gdown) (1.22)\n"
          ],
          "name": "stdout"
        }
      ]
    },
    {
      "metadata": {
        "id": "JmE3tsoz52r3",
        "colab_type": "text"
      },
      "cell_type": "markdown",
      "source": [
        "Load 250,000 words from the google word2vec model"
      ]
    },
    {
      "metadata": {
        "id": "QulOnq-C6T_E",
        "colab_type": "code",
        "outputId": "4f7e955f-c18a-4d5d-85b0-0654a71516f0",
        "colab": {
          "base_uri": "https://localhost:8080/",
          "height": 119
        }
      },
      "cell_type": "code",
      "source": [
        "# from google.colab import drive\n",
        "# drive.mount('/content/gdrive')\n",
        "\n",
        "gdown.download(\"https://drive.google.com/uc?id=1wvRpiGriuvqwHV3dkHyZQKliWQNLSUmn\", \"./googlemodel.gz\", False)\n",
        "\n",
        "print(\"loading model...\")\n",
        "model = gensim.models.KeyedVectors.load_word2vec_format(\"/content/googlemodel.gz\", binary=True, limit=250000)\n",
        "print(\"model loaded.\")"
      ],
      "execution_count": 4,
      "outputs": [
        {
          "output_type": "stream",
          "text": [
            "Downloading...\n",
            "From: https://drive.google.com/uc?id=1wvRpiGriuvqwHV3dkHyZQKliWQNLSUmn\n",
            "To: /content/googlemodel.gz\n",
            "1.65GB [00:12, 135MB/s] \n"
          ],
          "name": "stderr"
        },
        {
          "output_type": "stream",
          "text": [
            "loading model...\n",
            "model loaded.\n"
          ],
          "name": "stdout"
        }
      ]
    },
    {
      "metadata": {
        "id": "wnnNUsVR65Jq",
        "colab_type": "text"
      },
      "cell_type": "markdown",
      "source": [
        "Define `reword(string, string, (int))`  \n",
        "Uses [google's word2vec](https://drive.google.com/file/d/0B7XkCwpI5KDYNlNUTTlSS21pQmM/edit) and the [pronouncing library](https://pypi.org/project/pronouncing/) to find two words that rhyme with each other and are related to the input terms\n",
        "The larger `increment` is the more results will be printed"
      ]
    },
    {
      "metadata": {
        "id": "ky8TZlRX7M39",
        "colab_type": "code",
        "colab": {}
      },
      "cell_type": "code",
      "source": [
        "def reword(word1, word2, increment=50):\n",
        "    try:\n",
        "        found = False\n",
        "        count = 0\n",
        "        while not found:\n",
        "            count += increment\n",
        "            similar1 = model.wv.most_similar(positive=word1, topn=count)\n",
        "            similar2 = model.wv.most_similar(positive=word2, topn=count)\n",
        "            for sim1 in similar1:\n",
        "                for sim2 in similar2:\n",
        "                    if sim1[0] in pronouncing.rhymes(sim2[0]) or sim2[0] in pronouncing.rhymes(sim1[0]):\n",
        "                        match1 = sim1[0].lower()\n",
        "                        match2 = sim2[0].lower()\n",
        "                        if match1 != match2:\n",
        "                            print(\"\\t\", sim1[0], sim2[0])\n",
        "                            found = True\n",
        "    except:\n",
        "        print(\"Unknown Word\")"
      ],
      "execution_count": 0,
      "outputs": []
    },
    {
      "metadata": {
        "id": "QTfae6hX7P6z",
        "colab_type": "text"
      },
      "cell_type": "markdown",
      "source": [
        "Continues to promt the user for two words to `reword`  \n",
        "the user can input a third int argument to specify the `increment` value"
      ]
    },
    {
      "metadata": {
        "id": "V9jD08697Yzp",
        "colab_type": "code",
        "outputId": "9726b218-ba2e-4fbd-92d1-a31ca401cf9c",
        "colab": {
          "base_uri": "https://localhost:8080/",
          "height": 312
        }
      },
      "cell_type": "code",
      "source": [
        "while True:\n",
        "    words = input(\"It's not a \").split(\" \")\n",
        "    if len(words) != 2:\n",
        "        if (len(words) == 3 and words[2].isdecimal()):\n",
        "            reword(words[0], words[1], int(words[2]))\n",
        "        else:\n",
        "            print(\"Wrong format\")\n",
        "    else:\n",
        "        print(\"It's a:\")\n",
        "        reword(words[0], words[1])"
      ],
      "execution_count": 0,
      "outputs": [
        {
          "output_type": "stream",
          "text": [
            "It's not a big potato\n",
            "It's a:\n"
          ],
          "name": "stdout"
        },
        {
          "output_type": "stream",
          "text": [
            "/usr/local/lib/python3.6/dist-packages/ipykernel_launcher.py:7: DeprecationWarning: Call to deprecated `wv` (Attribute will be removed in 4.0.0, use self instead).\n",
            "  import sys\n",
            "/usr/local/lib/python3.6/dist-packages/gensim/matutils.py:737: FutureWarning: Conversion of the second argument of issubdtype from `int` to `np.signedinteger` is deprecated. In future, it will be treated as `np.int64 == np.dtype(int).type`.\n",
            "  if np.issubdtype(vec.dtype, np.int):\n",
            "/usr/local/lib/python3.6/dist-packages/ipykernel_launcher.py:8: DeprecationWarning: Call to deprecated `wv` (Attribute will be removed in 4.0.0, use self instead).\n",
            "  \n"
          ],
          "name": "stderr"
        },
        {
          "output_type": "stream",
          "text": [
            "\t nice rice\n",
            "\t monumental lentil\n",
            "\t key pea\n",
            "It's not a penis cup\n",
            "It's a:\n",
            "\t foreplay latte\n",
            "\t underwear silverware\n"
          ],
          "name": "stdout"
        }
      ]
    }
  ]
}